{
 "cells": [
  {
   "cell_type": "markdown",
   "metadata": {},
   "source": [
    "---\n",
    "\n",
    "_You are currently looking at **version 1.1** of this notebook. To download notebooks and datafiles, as well as get help on Jupyter notebooks in the Coursera platform, visit the [Jupyter Notebook FAQ](https://www.coursera.org/learn/python-data-analysis/resources/0dhYG) course resource._\n",
    "\n",
    "---"
   ]
  },
  {
   "cell_type": "code",
   "execution_count": 144,
   "metadata": {
    "collapsed": true
   },
   "outputs": [],
   "source": [
    "import pandas as pd\n",
    "import numpy as np\n",
    "from scipy.stats import ttest_ind"
   ]
  },
  {
   "cell_type": "markdown",
   "metadata": {},
   "source": [
    "# Assignment 4 - Hypothesis Testing\n",
    "This assignment requires more individual learning than previous assignments - you are encouraged to check out the [pandas documentation](http://pandas.pydata.org/pandas-docs/stable/) to find functions or methods you might not have used yet, or ask questions on [Stack Overflow](http://stackoverflow.com/) and tag them as pandas and python related. And of course, the discussion forums are open for interaction with your peers and the course staff.\n",
    "\n",
    "Definitions:\n",
    "* A _quarter_ is a specific three month period, Q1 is January through March, Q2 is April through June, Q3 is July through September, Q4 is October through December.\n",
    "* A _recession_ is defined as starting with two consecutive quarters of GDP decline, and ending with two consecutive quarters of GDP growth.\n",
    "* A _recession bottom_ is the quarter within a recession which had the lowest GDP.\n",
    "* A _university town_ is a city which has a high percentage of university students compared to the total population of the city.\n",
    "\n",
    "**Hypothesis**: University towns have their mean housing prices less effected by recessions. Run a t-test to compare the ratio of the mean price of houses in university towns the quarter before the recession starts compared to the recession bottom. (`price_ratio=quarter_before_recession/recession_bottom`)\n",
    "\n",
    "The following data files are available for this assignment:\n",
    "* From the [Zillow research data site](http://www.zillow.com/research/data/) there is housing data for the United States. In particular the datafile for [all homes at a city level](http://files.zillowstatic.com/research/public/City/City_Zhvi_AllHomes.csv), ```City_Zhvi_AllHomes.csv```, has median home sale prices at a fine grained level.\n",
    "* From the Wikipedia page on college towns is a list of [university towns in the United States](https://en.wikipedia.org/wiki/List_of_college_towns#College_towns_in_the_United_States) which has been copy and pasted into the file ```university_towns.txt```.\n",
    "* From Bureau of Economic Analysis, US Department of Commerce, the [GDP over time](http://www.bea.gov/national/index.htm#gdp) of the United States in current dollars (use the chained value in 2009 dollars), in quarterly intervals, in the file ```gdplev.xls```. For this assignment, only look at GDP data from the first quarter of 2000 onward.\n",
    "\n",
    "Each function in this assignment below is worth 10%, with the exception of ```run_ttest()```, which is worth 50%."
   ]
  },
  {
   "cell_type": "code",
   "execution_count": 145,
   "metadata": {
    "collapsed": true
   },
   "outputs": [],
   "source": [
    "# Use this dictionary to map state names to two letter acronyms\n",
    "states = {'OH': 'Ohio', 'KY': 'Kentucky', 'AS': 'American Samoa', 'NV': 'Nevada', 'WY': 'Wyoming', 'NA': 'National', 'AL': 'Alabama', 'MD': 'Maryland', 'AK': 'Alaska', 'UT': 'Utah', 'OR': 'Oregon', 'MT': 'Montana', 'IL': 'Illinois', 'TN': 'Tennessee', 'DC': 'District of Columbia', 'VT': 'Vermont', 'ID': 'Idaho', 'AR': 'Arkansas', 'ME': 'Maine', 'WA': 'Washington', 'HI': 'Hawaii', 'WI': 'Wisconsin', 'MI': 'Michigan', 'IN': 'Indiana', 'NJ': 'New Jersey', 'AZ': 'Arizona', 'GU': 'Guam', 'MS': 'Mississippi', 'PR': 'Puerto Rico', 'NC': 'North Carolina', 'TX': 'Texas', 'SD': 'South Dakota', 'MP': 'Northern Mariana Islands', 'IA': 'Iowa', 'MO': 'Missouri', 'CT': 'Connecticut', 'WV': 'West Virginia', 'SC': 'South Carolina', 'LA': 'Louisiana', 'KS': 'Kansas', 'NY': 'New York', 'NE': 'Nebraska', 'OK': 'Oklahoma', 'FL': 'Florida', 'CA': 'California', 'CO': 'Colorado', 'PA': 'Pennsylvania', 'DE': 'Delaware', 'NM': 'New Mexico', 'RI': 'Rhode Island', 'MN': 'Minnesota', 'VI': 'Virgin Islands', 'NH': 'New Hampshire', 'MA': 'Massachusetts', 'GA': 'Georgia', 'ND': 'North Dakota', 'VA': 'Virginia'}"
   ]
  },
  {
   "cell_type": "code",
   "execution_count": 146,
   "metadata": {
    "collapsed": true
   },
   "outputs": [],
   "source": [
    "def get_list_of_university_towns():\n",
    "    '''Returns a DataFrame of towns and the states they are in from the \n",
    "    university_towns.txt list. The format of the DataFrame should be:\n",
    "    DataFrame( [ [\"Michigan\", \"Ann Arbor\"], [\"Michigan\", \"Yipsilanti\"] ], \n",
    "    columns=[\"State\", \"RegionName\"]  )\n",
    "    \n",
    "    The following cleaning needs to be done:\n",
    "\n",
    "    1. For \"State\", removing characters from \"[\" to the end.\n",
    "    2. For \"RegionName\", when applicable, removing every character from \" (\" to the end.\n",
    "    3. Depending on how you read the data, you may need to remove newline character '\\n'. '''\n",
    "\n",
    "    filename = 'university_towns.txt'\n",
    "    lines = []\n",
    "    states = []\n",
    "\n",
    "    with open(filename) as f:\n",
    "        lines = f.readlines()\n",
    "\n",
    "    # Remove all the useless newline characters\n",
    "    lines = list(map(lambda x: x.replace('\\n', ''), lines))\n",
    "    edit_marker = '[edit]'\n",
    "    current_state = None\n",
    "    states_df = pd.DataFrame([], columns=[\"State\", \"RegionName\"])\n",
    "\n",
    "    for line in lines:\n",
    "        if(line.endswith(edit_marker)):\n",
    "            current_state = line.replace(edit_marker, '')\n",
    "        else:\n",
    "            region_split = line.split(\"(\")\n",
    "            states_df = states_df.append({\n",
    "                \"State\": current_state,\n",
    "                \"RegionName\": region_split[0].strip()\n",
    "            }, ignore_index=True)\n",
    "    \n",
    "    return states_df"
   ]
  },
  {
   "cell_type": "code",
   "execution_count": 147,
   "metadata": {
    "collapsed": true
   },
   "outputs": [],
   "source": [
    "gdp_df = pd.read_excel('gdplev.xls', skiprows=5, index_col=0)\n",
    "\n",
    "gdp_df.drop([\"Unnamed: 3\", \"Unnamed: 7\", \\\n",
    "             \"GDP in billions of current dollars\", \\\n",
    "             \"GDP in billions of chained 2009 dollars\", \\\n",
    "             \"GDP in billions of chained 2009 dollars.1\"], axis=1, inplace=True)\n",
    "gdp_df.rename(columns={ \"Unnamed: 4\": \"Quarter\" }, inplace=True)\n",
    "gdp_df.columns = [\"Quarter\", \"GDP\"]\n",
    "# gdp_df.reset_index()\n",
    "\n",
    "rc_df = gdp_df[gdp_df['Quarter'] > '2000'].copy()\n",
    "rc_df[\"GDP+1\"] = rc_df[\"GDP\"].shift(-1)\n",
    "rc_df[\"GDP+2\"] = rc_df[\"GDP\"].shift(-2)\n",
    "\n",
    "def get_recession_start():\n",
    "    # Where the GDP went down two months in a row\n",
    "    recession = rc_df[(rc_df[\"GDP\"] > rc_df[\"GDP+1\"]) & (rc_df[\"GDP+1\"] > rc_df[\"GDP+2\"])]\n",
    "    return recession.iloc[0].loc[\"Quarter\"]"
   ]
  },
  {
   "cell_type": "code",
   "execution_count": 148,
   "metadata": {
    "collapsed": true
   },
   "outputs": [],
   "source": [
    "def get_recession_end():\n",
    "    recession_start = get_recession_start()\n",
    "    recession = rc_df[rc_df[\"Quarter\"] > recession_start]\n",
    "    \n",
    "    # Where the GDP went up two months in a row\n",
    "    r_start_of_end = recession[(recession[\"GDP\"] < recession[\"GDP+1\"]) & (recession[\"GDP+1\"] < recession[\"GDP+2\"])]\n",
    "    return r_start_of_end.iloc[2].loc[\"Quarter\"]"
   ]
  },
  {
   "cell_type": "code",
   "execution_count": 149,
   "metadata": {
    "collapsed": true
   },
   "outputs": [],
   "source": [
    "# MASSIVE TODO: Change to use quarter as an index\n",
    "\n",
    "def get_recession_bottom():\n",
    "    '''Returns the year and quarter of the recession bottom time as a \n",
    "     string value in a format such as 2005q3'''\n",
    "    start = get_recession_start()\n",
    "    end = get_recession_end()\n",
    "\n",
    "    recession = rc_df[(rc_df[\"Quarter\"] >= start) & (rc_df[\"Quarter\"] <= end)]\n",
    "    recession_bottom = recession[recession[\"GDP\"] == recession[\"GDP\"].min()]\n",
    "\n",
    "    return recession_bottom[\"Quarter\"].iloc[0]"
   ]
  },
  {
   "cell_type": "code",
   "execution_count": 150,
   "metadata": {
    "scrolled": true
   },
   "outputs": [],
   "source": [
    "def convert_housing_data_to_quarters():\n",
    "    '''Converts the housing data to quarters and returns it as mean \n",
    "    values in a dataframe. This dataframe should be a dataframe with\n",
    "    columns for 2000q1 through 2016q3, and should have a multi-index\n",
    "    in the shape of [\"State\",\"RegionName\"].\n",
    "\n",
    "    Note: Quarters are defined in the assignment description, they are\n",
    "    not arbitrary three month periods.\n",
    "\n",
    "    The resulting dataframe should have 67 columns, and 10,730 rows.\n",
    "    '''\n",
    "    df = pd.read_csv('City_Zhvi_AllHomes.csv')\n",
    "    \n",
    "    # Name the states correctly\n",
    "    df[\"State\"] = df[\"State\"].map(states)\n",
    "    # Create a multilevel index\n",
    "    df.set_index([\"State\", \"RegionName\"], inplace=True)\n",
    "    # Drop un-needed columns\n",
    "    df.drop(['RegionID', 'Metro', 'CountyName', 'SizeRank'], axis=1, inplace=True)\n",
    "    # Convert the rest of the columns to datetime\n",
    "    df.columns = pd.to_datetime(df.columns)\n",
    "    \n",
    "    # Filter out null values\n",
    "    df = df[df.notnull()]\n",
    "    # Resample the columns into quarters and take the mean\n",
    "    df = df[df.columns[df.columns > \"1999-11\"]].resample(\"Q\", axis=1).mean()\n",
    "    \n",
    "    # Drop the last column (2016q4 not asked for)\n",
    "    df.drop([df.columns[-1]], inplace=True, axis=1)\n",
    "    # Generate quarters to rename the columns\n",
    "    quarters = [str(y) + \"q\" + str(q) for y in range(2000, 2017) for q in range(1, 5)]\n",
    "    # Rename the columns\n",
    "    df.columns = quarters[:-1]\n",
    "    # What the actual fuck. For some reason the values were too far to the right. I'm guessing\n",
    "    # this is to do with having to drop 2016q4 but I cba to figure this out\n",
    "    df = df.shift(-1, axis=1)\n",
    "\n",
    "    return df"
   ]
  },
  {
   "cell_type": "code",
   "execution_count": 155,
   "metadata": {
    "scrolled": true
   },
   "outputs": [
    {
     "data": {
      "text/plain": [
       "(True, 0.00036641601595526971, 'university town')"
      ]
     },
     "execution_count": 155,
     "metadata": {},
     "output_type": "execute_result"
    }
   ],
   "source": [
    "def get_ratio(row):\n",
    "        return (row[r_start] - row[r_bottom]) / row[r_start]\n",
    "\n",
    "def run_ttest():\n",
    "    '''First creates new data showing the decline or growth of housing prices\n",
    "    between the recession start and the recession bottom. Then runs a ttest\n",
    "    comparing the university town values to the non-university towns values, \n",
    "    return whether the alternative hypothesis (that the two groups are the same)\n",
    "    is true or not as well as the p-value of the confidence. \n",
    "    \n",
    "    Return the tuple (different, p, better) where different=True if the t-test is\n",
    "    True at a p<0.01 (we reject the null hypothesis), or different=False if \n",
    "    otherwise (we cannot reject the null hypothesis). The variable p should\n",
    "    be equal to the exact p value returned from scipy.stats.ttest_ind(). The\n",
    "    value for better should be either \"university town\" or \"non-university town\"\n",
    "    depending on which has a lower mean price ratio (which is equivilent to a\n",
    "    reduced market loss).'''\n",
    "    uni = get_list_of_university_towns()\n",
    "\n",
    "    r_start  = get_recession_start()\n",
    "    r_end    = get_recession_end()\n",
    "    r_bottom = get_recession_bottom()\n",
    "\n",
    "    house_df = convert_housing_data_to_quarters().copy()\n",
    "    house_df = house_df.loc[:, r_start:r_end]\n",
    "    house_df.reset_index(inplace=True)\n",
    "\n",
    "    house_df[\"Ratio\"] = house_df.apply(get_ratio, axis=1)\n",
    "\n",
    "    uni_towns = list(get_list_of_university_towns()[\"RegionName\"])\n",
    "\n",
    "    house_df[\"uni_town\"] = house_df.apply(lambda r: r[\"RegionName\"] in uni_towns, axis=1)\n",
    "\n",
    "    uni = house_df[house_df[\"uni_town\"]].loc[:, \"Ratio\"].dropna()\n",
    "    non_uni = house_df[house_df[\"uni_town\"] == False].loc[:, \"Ratio\"].dropna()\n",
    "\n",
    "    st, p = ttest_ind(non_uni, uni)\n",
    "\n",
    "    better = \"non university town\" if uni.mean() > non_uni.mean() else \"university town\"\n",
    "\n",
    "    return (p < 0.01, p, better)\n",
    "\n",
    "run_ttest()"
   ]
  },
  {
   "cell_type": "code",
   "execution_count": null,
   "metadata": {
    "collapsed": true
   },
   "outputs": [],
   "source": []
  }
 ],
 "metadata": {
  "coursera": {
   "course_slug": "python-data-analysis",
   "graded_item_id": "Il9Fx",
   "launcher_item_id": "TeDW0",
   "part_id": "WGlun"
  },
  "kernelspec": {
   "display_name": "Python 3",
   "language": "python",
   "name": "python3"
  },
  "language_info": {
   "codemirror_mode": {
    "name": "ipython",
    "version": 3
   },
   "file_extension": ".py",
   "mimetype": "text/x-python",
   "name": "python",
   "nbconvert_exporter": "python",
   "pygments_lexer": "ipython3",
   "version": "3.6.1"
  }
 },
 "nbformat": 4,
 "nbformat_minor": 1
}
