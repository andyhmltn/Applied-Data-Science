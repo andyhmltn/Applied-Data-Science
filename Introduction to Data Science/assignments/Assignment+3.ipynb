{
 "cells": [
  {
   "cell_type": "markdown",
   "metadata": {},
   "source": [
    "---\n",
    "\n",
    "_You are currently looking at **version 1.5** of this notebook. To download notebooks and datafiles, as well as get help on Jupyter notebooks in the Coursera platform, visit the [Jupyter Notebook FAQ](https://www.coursera.org/learn/python-data-analysis/resources/0dhYG) course resource._\n",
    "\n",
    "---"
   ]
  },
  {
   "cell_type": "markdown",
   "metadata": {},
   "source": [
    "# Assignment 3 - More Pandas - Test\n",
    "This assignment requires more individual learning then the last one did - you are encouraged to check out the [pandas documentation](http://pandas.pydata.org/pandas-docs/stable/) to find functions or methods you might not have used yet, or ask questions on [Stack Overflow](http://stackoverflow.com/) and tag them as pandas and python related. And of course, the discussion forums are open for interaction with your peers and the course staff."
   ]
  },
  {
   "cell_type": "markdown",
   "metadata": {},
   "source": [
    "### Question 1 (20%)\n",
    "Load the energy data from the file `Energy Indicators.xls`, which is a list of indicators of [energy supply and renewable electricity production](Energy%20Indicators.xls) from the [United Nations](http://unstats.un.org/unsd/environment/excel_file_tables/2013/Energy%20Indicators.xls) for the year 2013, and should be put into a DataFrame with the variable name of **energy**.\n",
    "\n",
    "Keep in mind that this is an Excel file, and not a comma separated values file. Also, make sure to exclude the footer and header information from the datafile. The first two columns are unneccessary, so you should get rid of them, and you should change the column labels so that the columns are:\n",
    "\n",
    "`['Country', 'Energy Supply', 'Energy Supply per Capita', '% Renewable']`\n",
    "\n",
    "Convert `Energy Supply` to gigajoules (there are 1,000,000 gigajoules in a petajoule). For all countries which have missing data (e.g. data with \"...\") make sure this is reflected as `np.NaN` values.\n",
    "\n",
    "Rename the following list of countries (for use in later questions):\n",
    "\n",
    "```\"Republic of Korea\": \"South Korea\",\n",
    "\"United States of America\": \"United States\",\n",
    "\"United Kingdom of Great Britain and Northern Ireland\": \"United Kingdom\",\n",
    "\"China, Hong Kong Special Administrative Region\": \"Hong Kong\"```\n",
    "\n",
    "There are also several countries with numbers and/or parenthesis in their name. Be sure to remove these, \n",
    "\n",
    "e.g. \n",
    "\n",
    "`'Bolivia (Plurinational State of)'` should be `'Bolivia'`, \n",
    "\n",
    "`'Switzerland17'` should be `'Switzerland'`.\n",
    "\n",
    "<br>\n",
    "\n",
    "Next, load the GDP data from the file `world_bank.csv`, which is a csv containing countries' GDP from 1960 to 2015 from [World Bank](http://data.worldbank.org/indicator/NY.GDP.MKTP.CD). Call this DataFrame **GDP**. \n",
    "\n",
    "Make sure to skip the header, and rename the following list of countries:\n",
    "\n",
    "```\"Korea, Rep.\": \"South Korea\", \n",
    "\"Iran, Islamic Rep.\": \"Iran\",\n",
    "\"Hong Kong SAR, China\": \"Hong Kong\"```\n",
    "\n",
    "<br>\n",
    "\n",
    "Finally, load the [Sciamgo Journal and Country Rank data for Energy Engineering and Power Technology](http://www.scimagojr.com/countryrank.php?category=2102) from the file `scimagojr-3.xlsx`, which ranks countries based on their journal contributions in the aforementioned area. Call this DataFrame **ScimEn**.\n",
    "\n",
    "Join the three datasets: GDP, Energy, and ScimEn into a new dataset (using the intersection of country names). Use only the last 10 years (2006-2015) of GDP data and only the top 15 countries by Scimagojr 'Rank' (Rank 1 through 15). \n",
    "\n",
    "The index of this DataFrame should be the name of the country, and the columns should be ['Rank', 'Documents', 'Citable documents', 'Citations', 'Self-citations',\n",
    "       'Citations per document', 'H index', 'Energy Supply',\n",
    "       'Energy Supply per Capita', '% Renewable', '2006', '2007', '2008',\n",
    "       '2009', '2010', '2011', '2012', '2013', '2014', '2015'].\n",
    "\n",
    "*This function should return a DataFrame with 20 columns and 15 entries.*"
   ]
  },
  {
   "cell_type": "code",
   "execution_count": 281,
   "metadata": {},
   "outputs": [],
   "source": [
    "import pandas as pd\n",
    "import numpy as np\n",
    "\n",
    "def merge_and_clean_datasets():\n",
    "    energy_df = pd.read_excel(\"Energy Indicators.xls\", skiprows=17, skip_footer=38)\n",
    "    bank_df = pd.read_csv(\"world_bank.csv\", skiprows=4)\n",
    "    sci_df = pd.read_excel(\"scimagojr-3.xlsx\")\n",
    "\n",
    "    energy_df = energy_df.drop(\"Unnamed: 0\", axis=1)\\\n",
    "                         .drop(\"Unnamed: 1\", axis=1)\n",
    "\n",
    "    energy_df.columns = [\"Country\", \"Energy Supply\", \"Energy Supply per Capita\", \"% Renewable\"]\n",
    "\n",
    "    countries_to_rename = d = {\n",
    "        \"Republic of Korea\": \"South Korea\",\n",
    "        \"United States of America\": \"United States\",\n",
    "        \"United Kingdom of Great Britain and Northern Ireland\": \"United Kingdom\",\n",
    "        \"China, Hong Kong Special Administrative Region\": \"Hong Kong\"\n",
    "    }\n",
    "\n",
    "    # Convert to gigajoules\n",
    "    energy_df[\"Energy Supply\"] *= 1000000\n",
    "\n",
    "    # Remove all numbers\n",
    "    energy_df[\"Country\"] = energy_df[\"Country\"].str.replace('\\d+', '')\n",
    "    # Remove all brackets and spaces after\n",
    "    energy_df[\"Country\"] = energy_df[\"Country\"].str.replace('\\([^)]*\\)', '')\n",
    "    energy_df[\"Country\"] = energy_df[\"Country\"].str.rstrip()\n",
    "\n",
    "\n",
    "    # Rename all the long country names\n",
    "    energy_df[\"Country\"] = energy_df[\"Country\"].apply(lambda x: d[x] if x in d else x)\n",
    "\n",
    "    countries_to_rename = f = {\n",
    "        \"Korea, Rep.\": \"South Korea\", \n",
    "        \"Iran, Islamic Rep.\": \"Iran\",\n",
    "        \"Hong Kong SAR, China\": \"Hong Kong\"\n",
    "    }\n",
    "\n",
    "    bank_df[\"Country Name\"] = bank_df[\"Country Name\"].apply(lambda x: f[x] if x in f else x)\n",
    "    bank_df.rename(columns={ \"Country Name\": \"Country\" }, inplace=True)\n",
    "\n",
    "    sci_df.rename(columns={ \"country\": \"Country\" }, inplace=True)\n",
    "\n",
    "    df = pd.merge(pd.merge(energy_df,bank_df,on=\"Country\"),sci_df,on=\"Country\")\n",
    "    df.set_index([\"Country\"], inplace=True)\n",
    "\n",
    "    for year in range(1960, 2006):\n",
    "        df.drop(str(year), axis=1, inplace=True)\n",
    "\n",
    "    df = df[[\"Rank\", \"Documents\", \"Citable documents\", \"Citations\",\"Self-citations\",\n",
    "     \"Citations per document\", \"H index\",\"Energy Supply\",\"Energy Supply per Capita\",\"% Renewable\",\n",
    "     \"2006\",\"2007\",\"2008\",\"2009\", \"2010\", \"2011\", \"2012\", \"2013\", \"2014\", \"2015\"]]\n",
    "    return energy_df, bank_df, sci_df, df\n",
    "\n",
    "def answer_one():\n",
    "    e, b, s, df = merge_and_clean_datasets()\n",
    "    df = df[df[\"Rank\"] <= 15].sort_values(by=[\"Rank\"])\n",
    "\n",
    "    return df"
   ]
  },
  {
   "cell_type": "markdown",
   "metadata": {},
   "source": [
    "### Question 2 (6.6%)\n",
    "The previous question joined three datasets then reduced this to just the top 15 entries. When you joined the datasets, but before you reduced this to the top 15 items, how many entries did you lose?\n",
    "\n",
    "*This function should return a single number.*"
   ]
  },
  {
   "cell_type": "code",
   "execution_count": 287,
   "metadata": {},
   "outputs": [],
   "source": [
    "def answer_two():\n",
    "    e, b, s, df = merge_and_clean_datasets()\n",
    "    b.rename(columns={ \"Country Name\": \"Country\" }, inplace=True)\n",
    "    s.rename(columns={ \"country\": \"Country\" }, inplace=True)\n",
    "\n",
    "    union = pd.merge(pd.merge(e, b, on='Country', how='outer'), s, on='Country', how='outer')\n",
    "\n",
    "    return len(union) - len(df)"
   ]
  },
  {
   "cell_type": "markdown",
   "metadata": {},
   "source": [
    "<br>\n",
    "\n",
    "## Answer the following questions in the context of only the top 15 countries by Scimagojr Rank (aka the DataFrame returned by `answer_one()`)"
   ]
  },
  {
   "cell_type": "markdown",
   "metadata": {},
   "source": [
    "### Question 3 (6.6%)\n",
    "What is the average GDP over the last 10 years for each country? (exclude missing values from this calculation.)\n",
    "\n",
    "*This function should return a Series named `avgGDP` with 15 countries and their average GDP sorted in descending order.*"
   ]
  },
  {
   "cell_type": "code",
   "execution_count": 233,
   "metadata": {
    "scrolled": true
   },
   "outputs": [],
   "source": [
    "def answer_three():\n",
    "    keys = [str(x) for x in range(2006, 2016)]\n",
    "    Top15 = answer_one()\n",
    "    Top15['avgGDP'] = Top15[keys].mean(axis=1)\n",
    "    \n",
    "    return Top15['avgGDP'].sort_values(ascending=False)"
   ]
  },
  {
   "cell_type": "markdown",
   "metadata": {},
   "source": [
    "### Question 4 (6.6%)\n",
    "By how much had the GDP changed over the 10 year span for the country with the 6th largest average GDP?\n",
    "\n",
    "*This function should return a single number.*"
   ]
  },
  {
   "cell_type": "code",
   "execution_count": 290,
   "metadata": {
    "scrolled": true
   },
   "outputs": [],
   "source": [
    "def answer_four():\n",
    "    keys = [str(x) for x in range(2006, 2016)]\n",
    "\n",
    "    Top15 = answer_one()\n",
    "    Top15[\"Average GDP\"] = Top15[keys].mean(axis=1)\n",
    "\n",
    "    target = Top15.sort_values(\"Average GDP\", ascending=False).iloc[5]\n",
    "\n",
    "    return target[\"2016\"] - target[\"2010\"]"
   ]
  },
  {
   "cell_type": "markdown",
   "metadata": {},
   "source": [
    "### Question 5 (6.6%)\n",
    "What is the mean `Energy Supply per Capita`?\n",
    "\n",
    "*This function should return a single number.*"
   ]
  },
  {
   "cell_type": "code",
   "execution_count": 235,
   "metadata": {},
   "outputs": [],
   "source": [
    "def answer_five():\n",
    "    Top15 = answer_one()\n",
    "    return Top15[\"Energy Supply per Capita\"].mean().item()\n"
   ]
  },
  {
   "cell_type": "markdown",
   "metadata": {},
   "source": [
    "### Question 6 (6.6%)\n",
    "What country has the maximum % Renewable and what is the percentage?\n",
    "\n",
    "*This function should return a tuple with the name of the country and the percentage.*"
   ]
  },
  {
   "cell_type": "code",
   "execution_count": 236,
   "metadata": {},
   "outputs": [],
   "source": [
    "def answer_six():\n",
    "    ren_key = \"% Renewable\"\n",
    "    Top15 = answer_one()\n",
    "    top_ren = Top15.sort_values([ren_key], ascending=False).iloc[0]\n",
    "\n",
    "    return (top_ren.name, top_ren.loc[ren_key])\n"
   ]
  },
  {
   "cell_type": "markdown",
   "metadata": {},
   "source": [
    "### Question 7 (6.6%)\n",
    "Create a new column that is the ratio of Self-Citations to Total Citations. \n",
    "What is the maximum value for this new column, and what country has the highest ratio?\n",
    "\n",
    "*This function should return a tuple with the name of the country and the ratio.*"
   ]
  },
  {
   "cell_type": "code",
   "execution_count": 270,
   "metadata": {},
   "outputs": [
    {
     "data": {
      "text/plain": [
       "('China', 0.68931261793894216)"
      ]
     },
     "execution_count": 270,
     "metadata": {},
     "output_type": "execute_result"
    }
   ],
   "source": [
    "def answer_seven():\n",
    "    Top15 = answer_one()\n",
    "    Top15['Citation Ratio'] =  Top15['Self-citations'] / Top15['Citations']\n",
    "    top_ratio = Top15.sort_values(['Citation Ratio'], ascending=False).iloc[0]\n",
    "\n",
    "    return (top_ratio.name, top_ratio['Citation Ratio'])\n"
   ]
  },
  {
   "cell_type": "markdown",
   "metadata": {},
   "source": [
    "### Question 8 (6.6%)\n",
    "\n",
    "Create a column that estimates the population using Energy Supply and Energy Supply per capita. \n",
    "What is the third most populous country according to this estimate?\n",
    "\n",
    "*This function should return a single string value.*"
   ]
  },
  {
   "cell_type": "code",
   "execution_count": 245,
   "metadata": {},
   "outputs": [],
   "source": [
    "def pop_estimate(Top15):\n",
    "    Top15[\"Population Estimate\"] = Top15[\"Energy Supply\"] / Top15[\"Energy Supply per Capita\"]\n",
    "\n",
    "    return Top15\n",
    "\n",
    "def answer_eight():\n",
    "    Top15 = pop_estimate(answer_one())\n",
    "    sorted_by_pop_estimate = Top15.sort_values([\"Population Estimate\"], ascending=False)\n",
    "    \n",
    "    return sorted_by_pop_estimate.iloc[2].name\n"
   ]
  },
  {
   "cell_type": "markdown",
   "metadata": {},
   "source": [
    "### Question 9 (6.6%)\n",
    "Create a column that estimates the number of citable documents per person. \n",
    "What is the correlation between the number of citable documents per capita and the energy supply per capita? Use the `.corr()` method, (Pearson's correlation).\n",
    "\n",
    "*This function should return a single number.*\n",
    "\n",
    "*(Optional: Use the built-in function `plot9()` to visualize the relationship between Energy Supply per Capita vs. Citable docs per Capita)*"
   ]
  },
  {
   "cell_type": "code",
   "execution_count": 246,
   "metadata": {},
   "outputs": [],
   "source": [
    "def answer_nine():\n",
    "    Top15 = pop_estimate(answer_one())\n",
    "\n",
    "    Top15[\"Energy Supply per Capita\"] = Top15[\"Energy Supply per Capita\"].astype(np.float)\n",
    "    Top15[\"Citable Documents per Person\"] = (Top15[\"Citable documents\"] / Top15[\"Population Estimate\"]).astype(np.float)\n",
    "\n",
    "    correlation = Top15.corr()\n",
    "    return correlation[\"Citable Documents per Person\"].loc[\"Energy Supply per Capita\"]\n"
   ]
  },
  {
   "cell_type": "markdown",
   "metadata": {},
   "source": [
    "### Question 10 (6.6%)\n",
    "Create a new column with a 1 if the country's % Renewable value is at or above the median for all countries in the top 15, and a 0 if the country's % Renewable value is below the median.\n",
    "\n",
    "*This function should return a series named `HighRenew` whose index is the country name sorted in ascending order of rank.*"
   ]
  },
  {
   "cell_type": "code",
   "execution_count": 247,
   "metadata": {},
   "outputs": [],
   "source": [
    "def is_high_renew(row):\n",
    "    return 1 if row > median else 0\n",
    "\n",
    "def answer_ten():\n",
    "    Top15 = answer_one()\n",
    "    median = Top15[\"% Renewable\"].median()\n",
    "    Top15[\"HighRenew\"] = Top15[\"% Renewable\"].apply(is_high_renew)\n",
    "    \n",
    "    return Top15[\"HighRenew\"]"
   ]
  },
  {
   "cell_type": "markdown",
   "metadata": {},
   "source": [
    "### Question 11 (6.6%)\n",
    "Use the following dictionary to group the Countries by Continent, then create a dateframe that displays the sample size (the number of countries in each continent bin), and the sum, mean, and std deviation for the estimated population of each country.\n",
    "\n",
    "```python\n",
    "ContinentDict  = {'China':'Asia', \n",
    "                  'United States':'North America', \n",
    "                  'Japan':'Asia', \n",
    "                  'United Kingdom':'Europe', \n",
    "                  'Russian Federation':'Europe', \n",
    "                  'Canada':'North America', \n",
    "                  'Germany':'Europe', \n",
    "                  'India':'Asia',\n",
    "                  'France':'Europe', \n",
    "                  'South Korea':'Asia', \n",
    "                  'Italy':'Europe', \n",
    "                  'Spain':'Europe', \n",
    "                  'Iran':'Asia',\n",
    "                  'Australia':'Australia', \n",
    "                  'Brazil':'South America'}\n",
    "```\n",
    "\n",
    "*This function should return a DataFrame with index named Continent `['Asia', 'Australia', 'Europe', 'North America', 'South America']` and columns `['size', 'sum', 'mean', 'std']`*"
   ]
  },
  {
   "cell_type": "code",
   "execution_count": 248,
   "metadata": {},
   "outputs": [],
   "source": [
    "def add_continents(Top15):\n",
    "    ContinentDict  = c = {'China':'Asia', \n",
    "              'United States':'North America', \n",
    "              'Japan':'Asia', \n",
    "              'United Kingdom':'Europe', \n",
    "              'Russian Federation':'Europe', \n",
    "              'Canada':'North America', \n",
    "              'Germany':'Europe', \n",
    "              'India':'Asia',\n",
    "              'France':'Europe', \n",
    "              'South Korea':'Asia', \n",
    "              'Italy':'Europe', \n",
    "              'Spain':'Europe', \n",
    "              'Iran':'Asia',\n",
    "              'Australia':'Australia', \n",
    "              'Brazil':'South America'}\n",
    "    Top15[\"Continent\"] = Top15.apply(lambda s: c[s.name] if s.name in c else s, axis=1)\n",
    "    return Top15\n",
    "\n",
    "def answer_eleven():\n",
    "    Top15 = add_continents(pop_estimate(answer_one()))\n",
    "    Top15[\"Population Estimate\"] = Top15[\"Population Estimate\"].astype(np.float)\n",
    "    \n",
    "    return Top15.groupby([\"Continent\"]).agg([\"sum\", \"size\", \"mean\", \"std\"])[\"Population Estimate\"]"
   ]
  },
  {
   "cell_type": "markdown",
   "metadata": {},
   "source": [
    "### Question 12 (6.6%)\n",
    "Cut % Renewable into 5 bins. Group Top15 by the Continent, as well as these new % Renewable bins. How many countries are in each of these groups?\n",
    "\n",
    "*This function should return a __Series__ with a MultiIndex of `Continent`, then the bins for `% Renewable`. Do not include groups with no countries.*"
   ]
  },
  {
   "cell_type": "code",
   "execution_count": 249,
   "metadata": {
    "scrolled": true
   },
   "outputs": [],
   "source": [
    "def answer_twelve():\n",
    "    Top15 = add_continents(answer_one())\n",
    "\n",
    "    Top15[\"% Renewable\"] = pd.cut(Top15[\"% Renewable\"], 5)\n",
    "    return Top15.groupby([\"Continent\", \"% Renewable\"]).agg(\"size\")"
   ]
  },
  {
   "cell_type": "markdown",
   "metadata": {},
   "source": [
    "### Question 13 (6.6%)\n",
    "Convert the Population Estimate series to a string with thousands separator (using commas). Do not round the results.\n",
    "\n",
    "e.g. 317615384.61538464 -> 317,615,384.61538464\n",
    "\n",
    "*This function should return a Series `PopEst` whose index is the country name and whose values are the population estimate string.*"
   ]
  },
  {
   "cell_type": "code",
   "execution_count": 250,
   "metadata": {
    "scrolled": true
   },
   "outputs": [],
   "source": [
    "def answer_thirteen():\n",
    "    Top15 = pop_estimate(answer_one())\n",
    "    formatted = Top15[\"Population Estimate\"].apply(lambda s: \"{:,}\".format(s))\n",
    "    # Return a series with the right name just to be safe\n",
    "    return pd.Series(formatted, name=\"PopEst\")"
   ]
  },
  {
   "cell_type": "markdown",
   "metadata": {},
   "source": [
    "### Optional\n",
    "\n",
    "Use the built in function `plot_optional()` to see an example visualization."
   ]
  }
 ],
 "metadata": {
  "anaconda-cloud": {},
  "coursera": {
   "course_slug": "python-data-analysis",
   "graded_item_id": "zAr06",
   "launcher_item_id": "KSSjT",
   "part_id": "SL3fU"
  },
  "kernelspec": {
   "display_name": "Python 3",
   "language": "python",
   "name": "python3"
  },
  "language_info": {
   "codemirror_mode": {
    "name": "ipython",
    "version": 3
   },
   "file_extension": ".py",
   "mimetype": "text/x-python",
   "name": "python",
   "nbconvert_exporter": "python",
   "pygments_lexer": "ipython3",
   "version": "3.6.2"
  }
 },
 "nbformat": 4,
 "nbformat_minor": 1
}
